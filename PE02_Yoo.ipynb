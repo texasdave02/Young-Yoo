{
 "cells": [
  {
   "cell_type": "code",
   "execution_count": 1,
   "id": "e14d072f",
   "metadata": {},
   "outputs": [
    {
     "name": "stdout",
     "output_type": "stream",
     "text": [
      "List: [1, 3, 5, 7, 9, 11, 13]\n",
      "Find 7 → Index: 3\n",
      "Find 2 → Index: None\n",
      "\n",
      "Updated List: [1, 3, 5, 7, 9, 11, 13, 15, 17, 19]\n",
      "Find 17 → Index: 8\n"
     ]
    }
   ],
   "source": [
    "def binary_search(my_list, target):\n",
    "    low = 0\n",
    "    high = len(my_list) - 1\n",
    "\n",
    "    while low <= high:\n",
    "        mid = (low + high) // 2\n",
    "        guess = my_list[mid]\n",
    "\n",
    "        if guess == target:\n",
    "            return mid\n",
    "        elif guess > target:\n",
    "            high = mid - 1\n",
    "        else:\n",
    "            low = mid + 1\n",
    "    return None\n",
    "\n",
    "my_list = [1, 3, 5, 7, 9, 11, 13]\n",
    "print(\"List:\", my_list)\n",
    "print(\"Find 7 → Index:\", binary_search(my_list, 7))\n",
    "print(\"Find 2 → Index:\", binary_search(my_list, 2))\n",
    "\n",
    "my_list.extend([15, 17, 19])\n",
    "my_list.sort()\n",
    "print(\"\\nUpdated List:\", my_list)\n",
    "print(\"Find 17 → Index:\", binary_search(my_list, 17))\n"
   ]
  },
  {
   "cell_type": "markdown",
   "id": "bd0cd111",
   "metadata": {},
   "source": [
    "# Discussion\n",
    "\n",
    "The variable `mid` always points to the middle index between the current `low` and `high`.\n",
    "Integer division (`//`) is necessary to avoid float index errors.\n"
   ]
  },
  {
   "cell_type": "code",
   "execution_count": 2,
   "id": "2313c2b3",
   "metadata": {},
   "outputs": [
    {
     "name": "stdout",
     "output_type": "stream",
     "text": [
      "\n",
      "Updated List: [1, 3, 5, 7, 9, 11, 13, 15, 15, 17, 17, 19, 19]\n",
      "Find 17 → Index: 9\n",
      "Find 19 → Index: 11\n",
      "Find 2 → Index: None\n"
     ]
    }
   ],
   "source": [
    "# Append more values to test the code\n",
    "my_list.extend([15, 17, 19])  # 새 숫자들을 리스트에 추가\n",
    "my_list.sort()                # 정렬(이진 탐색은 정렬된 리스트만 작동!)\n",
    "\n",
    "print(\"\\nUpdated List:\", my_list)\n",
    "print(\"Find 17 → Index:\", binary_search(my_list, 17))\n",
    "print(\"Find 19 → Index:\", binary_search(my_list, 19))\n",
    "print(\"Find 2 → Index:\", binary_search(my_list, 2))\n"
   ]
  }
 ],
 "metadata": {
  "kernelspec": {
   "display_name": ".venv",
   "language": "python",
   "name": "python3"
  },
  "language_info": {
   "codemirror_mode": {
    "name": "ipython",
    "version": 3
   },
   "file_extension": ".py",
   "mimetype": "text/x-python",
   "name": "python",
   "nbconvert_exporter": "python",
   "pygments_lexer": "ipython3",
   "version": "3.12.1"
  }
 },
 "nbformat": 4,
 "nbformat_minor": 5
}
